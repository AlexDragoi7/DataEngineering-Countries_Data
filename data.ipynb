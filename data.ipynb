{
 "cells": [
  {
   "cell_type": "code",
   "execution_count": 1,
   "metadata": {},
   "outputs": [
    {
     "data": {
      "text/plain": [
       "True"
      ]
     },
     "execution_count": 1,
     "metadata": {},
     "output_type": "execute_result"
    }
   ],
   "source": [
    "import pandas as pd\n",
    "import requests\n",
    "from bs4 import BeautifulSoup\n",
    "import psycopg\n",
    "import seaborn as sns\n",
    "import matplotlib.pyplot as plt\n",
    "from dotenv import load_dotenv\n",
    "import os\n",
    "\n",
    "load_dotenv()"
   ]
  },
  {
   "cell_type": "code",
   "execution_count": 2,
   "metadata": {},
   "outputs": [],
   "source": [
    "continents = ['asia', 'africa', 'europe', 'north-america', 'south-america', 'australia', 'oceania']\n",
    "asia_url = f'https://www.worldometers.info/geography/7-continents/{continents[0]}'\n",
    "africa_url = f'https://www.worldometers.info/geography/7-continents/{continents[1]}'\n",
    "europe_url = f'https://www.worldometers.info/geography/7-continents/{continents[2]}'\n",
    "north_america_url = f'https://www.worldometers.info/geography/7-continents/{continents[3]}'\n",
    "south_america_url = f'https://www.worldometers.info/geography/7-continents/{continents[4]}'\n",
    "oceania_url = f'https://www.worldometers.info/geography/7-continents/{continents[5]}/{continents[6]}'\n",
    "\n",
    "#Countries list per continent\n",
    "asian_countries = []\n",
    "african_countries = []\n",
    "european_countries = []\n",
    "north_american_countries = []\n",
    "south_american_countries = []\n",
    "oceania_countries = []\n",
    "\n",
    "#Population of each country\n",
    "asian_population = []\n",
    "african_population = []\n",
    "european_population = []\n",
    "north_american_population = []\n",
    "south_american_population = []\n",
    "oceania_population = []\n",
    " \n",
    "#Land area of each country\n",
    "asian_land_area = []\n",
    "african_land_area = []\n",
    "european_land_area = []\n",
    "north_american_land_area = []\n",
    "south_american_land_area = []\n",
    "oceania_land_area = []\n",
    "\n",
    "#Population density of each country\n",
    "asian_density = []\n",
    "african_density = []\n",
    "european_density = []\n",
    "north_american_density = []\n",
    "south_american_density = []\n",
    "oceania_density = []\n",
    "\n",
    "#Per Capita (person) land area of each country\n",
    "asian_capita_land = []\n",
    "african_capita_land = []\n",
    "european_capita_land = []\n",
    "north_american_capita_land = []\n",
    "south_american_capita_land = []\n",
    "oceania_capita_land = []\n",
    "\n",
    "def extract_asian_data(url):\n",
    "    response = requests.get(url).text\n",
    "    data = BeautifulSoup(response, 'html.parser')\n",
    "\n",
    "    table = data.find('tbody')\n",
    "    rows = table.find_all('tr')\n",
    "\n",
    "    for row in rows:\n",
    "        column = row.find_all('td')\n",
    "        if len(column) >= 1:\n",
    "            country = column[1].text\n",
    "            population = int((column[2].text).replace(',',''))\n",
    "            land_area = int((column[3].text).replace(',',''))\n",
    "            pop_density = int((column[4].text).replace(',',''))\n",
    "            per_capita_land_area = round(float(land_area/population), 4)\n",
    "            asian_countries.append(country)\n",
    "            asian_population.append(population)\n",
    "            asian_land_area.append(land_area)\n",
    "            asian_density.append(pop_density)\n",
    "            asian_capita_land.append(per_capita_land_area)\n",
    "\n",
    "\n",
    "\n",
    "def extract_african_data(url):\n",
    "    response = requests.get(url).text\n",
    "    data = BeautifulSoup(response, 'html.parser')\n",
    "\n",
    "    table = data.find('tbody')\n",
    "    rows = table.find_all('tr')\n",
    "\n",
    "    for row in rows:\n",
    "        column = row.find_all('td')\n",
    "        if len(column) >= 1:\n",
    "            country = column[1].text\n",
    "            population = int((column[2].text).replace(',',''))\n",
    "            land_area = int((column[3].text).replace(',',''))\n",
    "            pop_density = int((column[4].text).replace(',',''))\n",
    "            per_capita_land_area = round(float(land_area/population), 4)\n",
    "            african_countries.append(country)\n",
    "            african_population.append(population)\n",
    "            african_land_area.append(land_area)\n",
    "            african_density.append(pop_density)\n",
    "            african_capita_land.append(per_capita_land_area)\n",
    "\n",
    "def extract_european_data(url):\n",
    "    response = requests.get(url).text\n",
    "    data = BeautifulSoup(response, 'html.parser')\n",
    "\n",
    "    table = data.find('tbody')\n",
    "    rows = table.find_all('tr')\n",
    "\n",
    "    for row in rows:\n",
    "        column = row.find_all('td')\n",
    "        if len(column) >= 1:\n",
    "            country = column[1].text\n",
    "            population = int((column[2].text).replace(',',''))\n",
    "            land_area = int((column[3].text).replace(',',''))\n",
    "            pop_density = int((column[4].text).replace(',',''))\n",
    "            per_capita_land_area = round(float(land_area/population), 4)\n",
    "            european_countries.append(country)\n",
    "            european_population.append(population)\n",
    "            european_land_area.append(land_area)\n",
    "            european_density.append(pop_density)\n",
    "            european_capita_land.append(per_capita_land_area)\n",
    "\n",
    "def extract_NA_data(url):\n",
    "    response = requests.get(url).text\n",
    "    data = BeautifulSoup(response, 'html.parser')\n",
    "\n",
    "    table = data.find('tbody')\n",
    "    rows = table.find_all('tr')\n",
    "\n",
    "    for row in rows:\n",
    "        column = row.find_all('td')\n",
    "        if len(column) >= 1:\n",
    "            country = column[1].text\n",
    "            population = int((column[2].text).replace(',',''))\n",
    "            land_area = int((column[3].text).replace(',',''))\n",
    "            pop_density = int((column[4].text).replace(',',''))\n",
    "            per_capita_land_area = round(float(land_area/population), 4)\n",
    "            north_american_countries.append(country)\n",
    "            north_american_population.append(population)\n",
    "            north_american_land_area.append(land_area)\n",
    "            north_american_density.append(pop_density)\n",
    "            north_american_capita_land.append(per_capita_land_area)\n",
    "\n",
    "def extract_SA_data(url):\n",
    "    response = requests.get(url).text\n",
    "    data = BeautifulSoup(response, 'html.parser')\n",
    "\n",
    "    table = data.find('tbody')\n",
    "    rows = table.find_all('tr')\n",
    "\n",
    "    for row in rows:\n",
    "        column = row.find_all('td')\n",
    "        if len(column) >= 1:\n",
    "            country = column[1].text\n",
    "            population = int((column[2].text).replace(',',''))\n",
    "            land_area = int((column[3].text).replace(',',''))\n",
    "            pop_density = int((column[4].text).replace(',',''))\n",
    "            per_capita_land_area = round(float(land_area/population), 4)\n",
    "            south_american_countries.append(country)\n",
    "            south_american_population.append(population)\n",
    "            south_american_land_area.append(land_area)\n",
    "            south_american_density.append(pop_density)\n",
    "            south_american_capita_land.append(per_capita_land_area)\n",
    "\n",
    "def extract_oceania_data(url):\n",
    "    response = requests.get(url).text\n",
    "    data = BeautifulSoup(response, 'html.parser')\n",
    "\n",
    "    table = data.find('tbody')\n",
    "    rows = table.find_all('tr')\n",
    "\n",
    "    for row in rows:\n",
    "        column = row.find_all('td')\n",
    "        if len(column) >= 1:\n",
    "            country = column[1].text\n",
    "            population = int((column[2].text).replace(',',''))\n",
    "            land_area = int((column[3].text).replace(',',''))\n",
    "            pop_density = int((column[4].text).replace(',',''))\n",
    "            per_capita_land_area = round(float(land_area/population), 4)\n",
    "            oceania_countries.append(country)\n",
    "            oceania_population.append(population)\n",
    "            oceania_land_area.append(land_area)\n",
    "            oceania_density.append(pop_density)\n",
    "            oceania_capita_land.append(per_capita_land_area)\n",
    "\n",
    "        \n",
    "extract_asian_data(asia_url)\n",
    "extract_african_data(africa_url)\n",
    "extract_european_data(europe_url)\n",
    "extract_NA_data(north_america_url)\n",
    "extract_SA_data(south_america_url)\n",
    "extract_oceania_data(oceania_url)\n",
    "asia_df = pd.DataFrame({'Country': asian_countries, 'Continent': f'{continents[0].capitalize()}', 'Population (2024)':asian_population, 'Land Area (Km2)': asian_land_area, 'Density (P/Km2)': asian_density, 'Per Capita Land Area (Km2/P)': asian_capita_land})\n",
    "africa_df = pd.DataFrame({'Country': african_countries, 'Continent': f'{continents[1].capitalize()}', 'Population (2024)':african_population, 'Land Area (Km2)': african_land_area, 'Density (P/Km2)': african_density, 'Per Capita Land Area (Km2/P)': african_capita_land})\n",
    "europe_df = pd.DataFrame({'Country': european_countries, 'Continent': f'{continents[2].capitalize()}', 'Population (2024)':european_population, 'Land Area (Km2)': european_land_area, 'Density (P/Km2)': european_density, 'Per Capita Land Area (Km2/P)': european_capita_land})\n",
    "north_america_df = pd.DataFrame({'Country': north_american_countries, 'Continent': f'{continents[3].capitalize()}', 'Population (2024)':north_american_population, 'Land Area (Km2)': north_american_land_area, 'Density (P/Km2)': north_american_density, 'Per Capita Land Area (Km2/P)': north_american_capita_land})\n",
    "south_america_df = pd.DataFrame({'Country': south_american_countries, 'Continent': f'{continents[4].capitalize()}', 'Population (2024)':south_american_population, 'Land Area (Km2)': south_american_land_area, 'Density (P/Km2)': south_american_density, 'Per Capita Land Area (Km2/P)': south_american_capita_land})\n",
    "oceania_df = pd.DataFrame({'Country': oceania_countries, 'Continent': f'{continents[6].capitalize()}', 'Population (2024)':oceania_population, 'Land Area (Km2)': oceania_land_area, 'Density (P/Km2)': oceania_density, 'Per Capita Land Area (Km2/P)': oceania_capita_land})\n",
    "\n"
   ]
  },
  {
   "cell_type": "code",
   "execution_count": 3,
   "metadata": {},
   "outputs": [],
   "source": [
    "#Check the dataframes' data\n",
    "# north_america_df"
   ]
  },
  {
   "cell_type": "code",
   "execution_count": 4,
   "metadata": {},
   "outputs": [],
   "source": [
    "all_countries_df = pd.concat([asia_df, africa_df, europe_df, north_america_df, south_america_df, oceania_df], ignore_index=True)\n",
    "all_countries_df = all_countries_df.sort_values(by='Country', ascending=True)\n",
    "all_countries_df.reset_index(drop=True, inplace=True)\n",
    "# all_countries_df\n"
   ]
  },
  {
   "cell_type": "code",
   "execution_count": 5,
   "metadata": {},
   "outputs": [],
   "source": [
    "def load_to_csv(df):\n",
    "    return df.to_csv('countries_of_the_world.csv')\n",
    "\n",
    "load_to_csv(all_countries_df)"
   ]
  },
  {
   "cell_type": "code",
   "execution_count": null,
   "metadata": {},
   "outputs": [],
   "source": [
    "connection = psycopg.connect(\n",
    "    dbname=os.getenv('DB_NAME'),\n",
    "    user=os.getenv('DB_USER'),\n",
    "    password=os.getenv('DB_PASSWORD'),\n",
    "    host=os.getenv('DB_HOST'),\n",
    "    port=os.getenv('DB_SPORT')\n",
    ")\n",
    "cursor = connection.cursor()\n",
    "\n",
    "sql_create = f'''CREATE TABLE IF NOT EXISTS all_countries(country_id SERIAL PRIMARY KEY, country VARCHAR(100), continent VARCHAR(50), population INT,\n",
    "                 land_area INT, density INT, per_capita_land_area NUMERIC(10,4))'''\n",
    "cursor.execute(sql_create)\n",
    "connection.commit()\n",
    "\n",
    "# USE copy_df_data Python script TO LOAD THE CSV DATA INTO THE POSTGRESQL TABLE\n",
    "# *DO THIS STEP BEFORE RUNNING THE CELLS BELOW OR ANY OTHER QUERY"
   ]
  },
  {
   "cell_type": "code",
   "execution_count": null,
   "metadata": {},
   "outputs": [
    {
     "data": {
      "image/png": "[encoded data removed]",
      "text/plain": [
       "<Figure size 640x480 with 1 Axes>"
      ]
     },
     "metadata": {},
     "output_type": "display_data"
    }
   ],
   "source": [
    "#SQL Query - Returns the number of existing countries per each continent\n",
    "\n",
    "sql1 = f'''SELECT continent, COUNT(country) AS total_countries FROM all_countries\n",
    "                                    GROUP BY continent ORDER BY total_countries DESC'''\n",
    "total_countries_per_cont = cursor.execute(sql1)\n",
    "continents = []\n",
    "t_countries = []\n",
    "for tc in total_countries_per_cont:\n",
    "    continents.append(tc[0])\n",
    "    t_countries.append(tc[1])\n",
    "\n",
    "plt.bar(continents, t_countries, width=.3, align='center', color='#ff8a33')\n",
    "plt.xlabel('Continents')\n",
    "plt.ylabel('Total Countries')\n",
    "plt.show()\n",
    "connection.commit()"
   ]
  },
  {
   "cell_type": "code",
   "execution_count": 15,
   "metadata": {},
   "outputs": [
    {
     "name": "stdout",
     "output_type": "stream",
     "text": [
      "('Albania',)\n",
      "('Andorra',)\n",
      "('Austria',)\n",
      "('Belarus',)\n",
      "('Belgium',)\n",
      "('Bosnia and Herzegovina',)\n",
      "('Bulgaria',)\n",
      "('Croatia',)\n",
      "('Czechia',)\n",
      "('Denmark',)\n",
      "('Estonia',)\n",
      "('Faeroe Islands',)\n",
      "('Finland',)\n",
      "('France',)\n",
      "('Germany',)\n",
      "('Gibraltar',)\n",
      "('Greece',)\n",
      "('Holy See',)\n",
      "('Hungary',)\n",
      "('Iceland',)\n",
      "('Ireland',)\n",
      "('Isle of Man',)\n",
      "('Italy',)\n",
      "('Latvia',)\n",
      "('Liechtenstein',)\n",
      "('Lithuania',)\n",
      "('Luxembourg',)\n",
      "('Malta',)\n",
      "('Moldova',)\n",
      "('Monaco',)\n",
      "('Montenegro',)\n",
      "('Netherlands',)\n",
      "('North Macedonia',)\n",
      "('Norway',)\n",
      "('Poland',)\n",
      "('Portugal',)\n",
      "('Romania',)\n",
      "('Russia',)\n",
      "('San Marino',)\n",
      "('Serbia',)\n",
      "('Slovakia',)\n",
      "('Slovenia',)\n",
      "('Spain',)\n",
      "('Sweden',)\n",
      "('Switzerland',)\n",
      "('Ukraine',)\n",
      "('United Kingdom',)\n"
     ]
    }
   ],
   "source": [
    "#SQL Query - Returns the name of countries for a specific continent - continent name variables are available above\n",
    "\n",
    "sql2 = f'''SELECT country FROM all_countries WHERE continent = 'Europe';'''\n",
    "countries_per_cont = cursor.execute(sql2)\n",
    "for country in countries_per_cont:\n",
    "    print(country)\n",
    "connection.commit()"
   ]
  },
  {
   "cell_type": "code",
   "execution_count": 45,
   "metadata": {},
   "outputs": [
    {
     "data": {
      "text/plain": [
       "<Axes: >"
      ]
     },
     "execution_count": 45,
     "metadata": {},
     "output_type": "execute_result"
    },
    {
     "data": {
      "image/png": "[encoded data removed]",
      "text/plain": [
       "<Figure size 640x480 with 1 Axes>"
      ]
     },
     "metadata": {},
     "output_type": "display_data"
    }
   ],
   "source": [
    "#SQL Query - Returns the top 10 most populous countries\n",
    "sql3 = f'''SELECT country, population FROM all_countries ORDER BY population DESC LIMIT 10'''\n",
    "top10_pop_countries = cursor.execute(sql3)\n",
    "population = []\n",
    "countries = []\n",
    "for ctr in top10_pop_countries:\n",
    "    countries.append(ctr[0])\n",
    "    population.append(ctr[1])\n",
    "top10_df = pd.DataFrame(columns=[countries], data=[population])\n",
    "sns.barplot(data=top10_df, orient='h', width=.7, legend='auto')\n"
   ]
  },
  {
   "cell_type": "code",
   "execution_count": 46,
   "metadata": {},
   "outputs": [
    {
     "name": "stdout",
     "output_type": "stream",
     "text": [
      "('Holy See', 496)\n"
     ]
    }
   ],
   "source": [
    "#SQL Query - Returns the least populated country in the world\n",
    "sql4 = '''SELECT country, population FROM all_countries ORDER BY population ASC LIMIT 1'''\n",
    "min_pop_country = cursor.execute(sql4)\n",
    "for min in min_pop_country:\n",
    "    print(min)\n",
    "connection.commit()"
   ]
  },
  {
   "cell_type": "code",
   "execution_count": 47,
   "metadata": {},
   "outputs": [
    {
     "name": "stdout",
     "output_type": "stream",
     "text": [
      "('Asia', 4806898006)\n",
      "('Africa', 1515140850)\n",
      "('Europe', 743230911)\n",
      "('North-america', 613149877)\n",
      "('South-america', 435611301)\n",
      "('Oceania', 46502478)\n"
     ]
    }
   ],
   "source": [
    "#SQL Query - Returns the sum of population per each continent\n",
    "sql5 = '''SELECT continent, SUM(population) AS total_population FROM all_countries GROUP BY continent ORDER BY total_population DESC'''\n",
    "total_pop_per_cont = cursor.execute(sql5)\n",
    "for total_pop in total_pop_per_cont:\n",
    "    print(total_pop)\n",
    "connection.commit()"
   ]
  },
  {
   "cell_type": "code",
   "execution_count": 71,
   "metadata": {},
   "outputs": [
    {
     "data": {
      "image/png": "[encoded data removed]",
      "text/plain": [
       "<Figure size 640x480 with 1 Axes>"
      ]
     },
     "metadata": {},
     "output_type": "display_data"
    }
   ],
   "source": [
    "#SQL Query - Returns the average land area per country in each continent\n",
    "sql6 = '''SELECT continent, AVG(land_area) as average_land_area FROM all_countries GROUP BY continent'''\n",
    "avg_land_area = cursor.execute(sql6)\n",
    "avg_cont = []\n",
    "avg_area = []\n",
    "for ala in avg_land_area:\n",
    "    avg_cont.append(ala[0])\n",
    "    avg_area.append(ala[1])\n",
    "palette_colors = sns.color_palette('bright')\n",
    "plt.pie(x=avg_area,labels=avg_cont,colors=palette_colors, autopct='%.0f%%')\n",
    "plt.show()"
   ]
  },
  {
   "cell_type": "code",
   "execution_count": 72,
   "metadata": {},
   "outputs": [
    {
     "name": "stdout",
     "output_type": "stream",
     "text": [
      "('Monaco', 25927)\n",
      "('Macao', 24009)\n",
      "('Singapore', 8332)\n",
      "('Hong Kong', 7062)\n",
      "('Gibraltar', 3933)\n",
      "('Bahrain', 2115)\n",
      "('Maldives', 1759)\n",
      "('Malta', 1686)\n",
      "('Bangladesh', 1333)\n",
      "('Bermuda', 1293)\n",
      "('Sint Maarten', 1275)\n",
      "('Holy See', 1240)\n",
      "('State of Palestine', 913)\n",
      "('Mayotte', 871)\n",
      "('Micronesia', 753)\n",
      "('Barbados', 657)\n",
      "('Taiwan', 656)\n",
      "('Mauritius', 626)\n",
      "('Aruba', 600)\n",
      "('Nauru', 597)\n",
      "('Rwanda', 578)\n",
      "('Lebanon', 568)\n",
      "('San Marino', 560)\n",
      "('Burundi', 547)\n",
      "('Netherlands', 541)\n",
      "('Saint Barthélemy', 536)\n",
      "('South Korea', 532)\n",
      "('Saint Martin', 493)\n"
     ]
    }
   ],
   "source": [
    "#SQL Query - Returns the countries with a population density above the global average\n",
    "sql7 = '''SELECT country, density FROM all_countries WHERE density > (SELECT AVG(density) as avg_density FROM all_countries) ORDER BY density DESC'''\n",
    "pop_density_query = cursor.execute(sql7)\n",
    "for pop_density in pop_density_query:\n",
    "    print(pop_density)\n",
    "connection.commit()"
   ]
  },
  {
   "cell_type": "code",
   "execution_count": 73,
   "metadata": {},
   "outputs": [
    {
     "name": "stdout",
     "output_type": "stream",
     "text": [
      "('Greenland', Decimal('7.3505'))\n"
     ]
    }
   ],
   "source": [
    "#SQL Query - Returns the country with the highest per capita land area\n",
    "sql8 = '''SELECT country, per_capita_land_area FROM all_countries GROUP BY country, per_capita_land_area\n",
    "            ORDER BY per_capita_land_area DESC LIMIT 1'''\n",
    "highest_per_capita_land_area_country = cursor.execute(sql8)\n",
    "for high_pcla in highest_per_capita_land_area_country:\n",
    "    print(high_pcla)\n",
    "connection.commit()"
   ]
  },
  {
   "cell_type": "code",
   "execution_count": null,
   "metadata": {},
   "outputs": [],
   "source": []
  }
 ],
 "metadata": {
  "kernelspec": {
   "display_name": "venv",
   "language": "python",
   "name": "python3"
  },
  "language_info": {
   "codemirror_mode": {
    "name": "ipython",
    "version": 3
   },
   "file_extension": ".py",
   "mimetype": "text/x-python",
   "name": "python",
   "nbconvert_exporter": "python",
   "pygments_lexer": "ipython3",
   "version": "3.10.12"
  }
 },
 "nbformat": 4,
 "nbformat_minor": 2
}
